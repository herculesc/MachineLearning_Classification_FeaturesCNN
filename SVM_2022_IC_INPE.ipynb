{
  "nbformat": 4,
  "nbformat_minor": 0,
  "metadata": {
    "colab": {
      "name": "SVM-2022_IC-INPE.ipynb",
      "provenance": [],
      "collapsed_sections": [],
      "include_colab_link": true
    },
    "kernelspec": {
      "name": "python3",
      "display_name": "Python 3"
    },
    "language_info": {
      "name": "python"
    },
    "accelerator": "GPU",
    "gpuClass": "standard"
  },
  "cells": [
    {
      "cell_type": "markdown",
      "metadata": {
        "id": "view-in-github",
        "colab_type": "text"
      },
      "source": [
        "<a href=\"https://colab.research.google.com/github/herculesc/MachineLearning_Classification_FeaturesCNN/blob/main/SVM_2022_IC_INPE.ipynb\" target=\"_parent\"><img src=\"https://colab.research.google.com/assets/colab-badge.svg\" alt=\"Open In Colab\"/></a>"
      ]
    },
    {
      "cell_type": "code",
      "source": [
        "# Criar novo dataset com os CSV (ok)\n",
        "# Normalizar dados (ok)\n",
        "# Aplicar modelos \n",
        "# Validação dos modelos"
      ],
      "metadata": {
        "id": "JoqNeDBKgQQP"
      },
      "execution_count": null,
      "outputs": []
    },
    {
      "cell_type": "code",
      "source": [
        "from google.colab import drive\n",
        "drive.mount('/content/drive')"
      ],
      "metadata": {
        "colab": {
          "base_uri": "https://localhost:8080/"
        },
        "id": "519f4Bl6Z0KR",
        "outputId": "b5369f51-bb62-4988-adb6-7b7f143045d7"
      },
      "execution_count": null,
      "outputs": [
        {
          "output_type": "stream",
          "name": "stdout",
          "text": [
            "Mounted at /content/drive\n"
          ]
        }
      ]
    },
    {
      "cell_type": "markdown",
      "source": [
        "# **Bibliotecas**"
      ],
      "metadata": {
        "id": "fwmX83YzH6rk"
      }
    },
    {
      "cell_type": "code",
      "execution_count": null,
      "metadata": {
        "id": "Mbcf3BDg4rJX"
      },
      "outputs": [],
      "source": [
        "import pandas as pd\n",
        "import numpy as np\n",
        "import matplotlib.pyplot as plt\n",
        "import seaborn as sns\n",
        "from tensorflow import keras\n",
        "from sklearn.model_selection import train_test_split\n",
        "from sklearn.metrics import f1_score, precision_score, recall_score, confusion_matrix\n",
        "from sklearn.pipeline import make_pipeline\n",
        "from sklearn.preprocessing import StandardScaler\n",
        "from sklearn.svm import SVC"
      ]
    },
    {
      "cell_type": "code",
      "source": [
        "# y_true = y_teste\n",
        "# y_pred = model.predict(x_teste)\n",
        "dic_pevision = {}\n",
        "\n",
        "def prevision(y_true, y_pred, final_treino):  \n",
        "  precision = precision_score(y_true, y_pred , average=\"macro\")\n",
        "  f1 = f1_score(y_true, y_pred , average=\"macro\")\n",
        "  recall = recall_score(y_true, y_pred , average=\"macro\")\n",
        "\n",
        "  dic_pevision['f1-Score'] = \"{:.4f}\".format(f1)\n",
        "  dic_pevision['Precision'] = \"{:.4f}\".format(precision)\n",
        "  dic_pevision['Recall'] = \"{:.4f}\".format(recall)\n",
        "  dic_pevision['tempo'] = \"{:.4f}\".format(final_treino)\n",
        "  #print(f'F1: {f1:.4f} Precision:{precision:.4f} Recall:{recall:.4f} Tempo{final_treino:.4f}')\n",
        "\n",
        "  return dic_pevision"
      ],
      "metadata": {
        "id": "Dsfxoi32UW-6"
      },
      "execution_count": null,
      "outputs": []
    },
    {
      "cell_type": "code",
      "source": [
        "def Load_model(C_, Kernel, Degree):\n",
        "  inicio_treino = init_time()\n",
        "  model = make_pipeline(StandardScaler(),\n",
        "                        SVC(C= C_,\n",
        "                            kernel=Kernel,\n",
        "                            degree=Degree,\n",
        "                            gamma='auto',\n",
        "                            decision_function_shape='ovr',\n",
        "                            random_state=2))\n",
        "  final_treino = time_ex(inicio_treino)\n",
        "  \n",
        "  model.fit(x_treino, y_treino)\n",
        "\n",
        "  return {'Model':model, 'Tempo': final_treino}"
      ],
      "metadata": {
        "id": "PRgfv4gvez0P"
      },
      "execution_count": null,
      "outputs": []
    },
    {
      "cell_type": "code",
      "source": [
        "import sys\n",
        "# Abrir local do arquivo\n",
        "\n",
        "sys.path.append('/content/drive/MyDrive/TensorFlow_IC')\n",
        "\n",
        "# Carrefar função do arquivo\n",
        "from Time_execution import init_time\n",
        "from Time_execution import time_ex\n",
        "timeres = []"
      ],
      "metadata": {
        "id": "a8ULBNg2VARA"
      },
      "execution_count": null,
      "outputs": []
    },
    {
      "cell_type": "markdown",
      "source": [
        "# **Carregar conjunto de dados**"
      ],
      "metadata": {
        "id": "gOKWKVcxHymN"
      }
    },
    {
      "cell_type": "code",
      "source": [
        "path = ['VGG_16', 'MobileNet', 'NASNetLarge', 'EfficientNetB0', 'EfficientNetB7', 'EfficientNetV2L' ]\n",
        "train_path = []\n",
        "test_path = []\n",
        "for i in path:\n",
        "  train = f'/content/drive/MyDrive/TensorFlow_IC/Dados/IC_Extraction_save/{i}/{i}_Train.csv'\n",
        "  train_path.append(train)\n",
        "  \n",
        "  test = f'/content/drive/MyDrive/TensorFlow_IC/Dados/IC_Extraction_save/{i}/{i}_Test.csv'\n",
        "  test_path.append(test)\n"
      ],
      "metadata": {
        "id": "_U803_GY1vnQ"
      },
      "execution_count": null,
      "outputs": []
    },
    {
      "cell_type": "code",
      "source": [
        "select_cnn = 5\n",
        "selecao_train = train_path[select_cnn] \n",
        "selecao_test = test_path[select_cnn]\n",
        "\n",
        "print(selecao_train)\n",
        "print(selecao_test)"
      ],
      "metadata": {
        "colab": {
          "base_uri": "https://localhost:8080/"
        },
        "id": "ZTb815m63pBf",
        "outputId": "08ab9522-e5be-44da-b826-0877b0ad5b22"
      },
      "execution_count": null,
      "outputs": [
        {
          "output_type": "stream",
          "name": "stdout",
          "text": [
            "/content/drive/MyDrive/TensorFlow_IC/Dados/IC_Extraction_save/EfficientNetV2L/EfficientNetV2L_Train.csv\n",
            "/content/drive/MyDrive/TensorFlow_IC/Dados/IC_Extraction_save/EfficientNetV2L/EfficientNetV2L_Test.csv\n"
          ]
        }
      ]
    },
    {
      "cell_type": "markdown",
      "source": [
        "# **Carrega conjunto de dados**"
      ],
      "metadata": {
        "id": "R-B6Q1BV5odX"
      }
    },
    {
      "cell_type": "code",
      "source": [
        "# Extração do conjunto de treinamento e alvo:\n",
        "data = pd.read_csv(selecao_train)\n",
        "alvo = pd.read_csv(selecao_test)\n",
        "\n",
        "# Remover coluna vazia\n",
        "data = data.drop(columns=['Unnamed: 0'])\n",
        "alvo = alvo.drop(columns=['Unnamed: 0'])"
      ],
      "metadata": {
        "id": "RhXYVXR9Hw4T"
      },
      "execution_count": null,
      "outputs": []
    },
    {
      "cell_type": "code",
      "source": [
        "alvo.head()"
      ],
      "metadata": {
        "colab": {
          "base_uri": "https://localhost:8080/",
          "height": 300
        },
        "id": "kR658EyYnKwZ",
        "outputId": "4d09cf9b-81a3-40a1-f8c2-5bd186aac2bd"
      },
      "execution_count": null,
      "outputs": [
        {
          "output_type": "execute_result",
          "data": {
            "text/plain": [
              "         N1        N2        N3        N4        N5        N6        N7  \\\n",
              "0  0.000371  0.000163  0.000153  0.000134  0.000150  0.000210  0.000147   \n",
              "1  0.000237  0.000139  0.000162  0.000145  0.000180  0.000351  0.000235   \n",
              "2  0.000220  0.000267  0.000180  0.000270  0.000365  0.000340  0.000304   \n",
              "3  0.000092  0.000071  0.000114  0.000090  0.000082  0.000153  0.000082   \n",
              "4  0.000186  0.000159  0.000227  0.000208  0.000184  0.000412  0.000230   \n",
              "\n",
              "         N8        N9       N10  ...      N992      N993      N994      N995  \\\n",
              "0  0.000434  0.000474  0.000217  ...  0.000126  0.000143  0.000361  0.000153   \n",
              "1  0.000380  0.000493  0.000384  ...  0.000260  0.000236  0.000332  0.000205   \n",
              "2  0.000352  0.000346  0.000376  ...  0.000373  0.000275  0.000446  0.000371   \n",
              "3  0.000091  0.000111  0.000119  ...  0.000121  0.000100  0.000154  0.000162   \n",
              "4  0.000230  0.000300  0.000294  ...  0.000280  0.000179  0.000351  0.000331   \n",
              "\n",
              "       N996      N997      N998      N999     N1000  Classe  \n",
              "0  0.000468  0.000210  0.000071  0.000148  0.000384       0  \n",
              "1  0.000396  0.000338  0.000139  0.000356  0.000305       0  \n",
              "2  0.000819  0.000281  0.000263  0.000156  0.000547       0  \n",
              "3  0.000268  0.000114  0.000050  0.000071  0.000125       0  \n",
              "4  0.000502  0.000240  0.000121  0.000137  0.000317       0  \n",
              "\n",
              "[5 rows x 1001 columns]"
            ],
            "text/html": [
              "\n",
              "  <div id=\"df-6e2bb9ed-9344-46d3-a76c-4e9ae2ef3d6e\">\n",
              "    <div class=\"colab-df-container\">\n",
              "      <div>\n",
              "<style scoped>\n",
              "    .dataframe tbody tr th:only-of-type {\n",
              "        vertical-align: middle;\n",
              "    }\n",
              "\n",
              "    .dataframe tbody tr th {\n",
              "        vertical-align: top;\n",
              "    }\n",
              "\n",
              "    .dataframe thead th {\n",
              "        text-align: right;\n",
              "    }\n",
              "</style>\n",
              "<table border=\"1\" class=\"dataframe\">\n",
              "  <thead>\n",
              "    <tr style=\"text-align: right;\">\n",
              "      <th></th>\n",
              "      <th>N1</th>\n",
              "      <th>N2</th>\n",
              "      <th>N3</th>\n",
              "      <th>N4</th>\n",
              "      <th>N5</th>\n",
              "      <th>N6</th>\n",
              "      <th>N7</th>\n",
              "      <th>N8</th>\n",
              "      <th>N9</th>\n",
              "      <th>N10</th>\n",
              "      <th>...</th>\n",
              "      <th>N992</th>\n",
              "      <th>N993</th>\n",
              "      <th>N994</th>\n",
              "      <th>N995</th>\n",
              "      <th>N996</th>\n",
              "      <th>N997</th>\n",
              "      <th>N998</th>\n",
              "      <th>N999</th>\n",
              "      <th>N1000</th>\n",
              "      <th>Classe</th>\n",
              "    </tr>\n",
              "  </thead>\n",
              "  <tbody>\n",
              "    <tr>\n",
              "      <th>0</th>\n",
              "      <td>0.000371</td>\n",
              "      <td>0.000163</td>\n",
              "      <td>0.000153</td>\n",
              "      <td>0.000134</td>\n",
              "      <td>0.000150</td>\n",
              "      <td>0.000210</td>\n",
              "      <td>0.000147</td>\n",
              "      <td>0.000434</td>\n",
              "      <td>0.000474</td>\n",
              "      <td>0.000217</td>\n",
              "      <td>...</td>\n",
              "      <td>0.000126</td>\n",
              "      <td>0.000143</td>\n",
              "      <td>0.000361</td>\n",
              "      <td>0.000153</td>\n",
              "      <td>0.000468</td>\n",
              "      <td>0.000210</td>\n",
              "      <td>0.000071</td>\n",
              "      <td>0.000148</td>\n",
              "      <td>0.000384</td>\n",
              "      <td>0</td>\n",
              "    </tr>\n",
              "    <tr>\n",
              "      <th>1</th>\n",
              "      <td>0.000237</td>\n",
              "      <td>0.000139</td>\n",
              "      <td>0.000162</td>\n",
              "      <td>0.000145</td>\n",
              "      <td>0.000180</td>\n",
              "      <td>0.000351</td>\n",
              "      <td>0.000235</td>\n",
              "      <td>0.000380</td>\n",
              "      <td>0.000493</td>\n",
              "      <td>0.000384</td>\n",
              "      <td>...</td>\n",
              "      <td>0.000260</td>\n",
              "      <td>0.000236</td>\n",
              "      <td>0.000332</td>\n",
              "      <td>0.000205</td>\n",
              "      <td>0.000396</td>\n",
              "      <td>0.000338</td>\n",
              "      <td>0.000139</td>\n",
              "      <td>0.000356</td>\n",
              "      <td>0.000305</td>\n",
              "      <td>0</td>\n",
              "    </tr>\n",
              "    <tr>\n",
              "      <th>2</th>\n",
              "      <td>0.000220</td>\n",
              "      <td>0.000267</td>\n",
              "      <td>0.000180</td>\n",
              "      <td>0.000270</td>\n",
              "      <td>0.000365</td>\n",
              "      <td>0.000340</td>\n",
              "      <td>0.000304</td>\n",
              "      <td>0.000352</td>\n",
              "      <td>0.000346</td>\n",
              "      <td>0.000376</td>\n",
              "      <td>...</td>\n",
              "      <td>0.000373</td>\n",
              "      <td>0.000275</td>\n",
              "      <td>0.000446</td>\n",
              "      <td>0.000371</td>\n",
              "      <td>0.000819</td>\n",
              "      <td>0.000281</td>\n",
              "      <td>0.000263</td>\n",
              "      <td>0.000156</td>\n",
              "      <td>0.000547</td>\n",
              "      <td>0</td>\n",
              "    </tr>\n",
              "    <tr>\n",
              "      <th>3</th>\n",
              "      <td>0.000092</td>\n",
              "      <td>0.000071</td>\n",
              "      <td>0.000114</td>\n",
              "      <td>0.000090</td>\n",
              "      <td>0.000082</td>\n",
              "      <td>0.000153</td>\n",
              "      <td>0.000082</td>\n",
              "      <td>0.000091</td>\n",
              "      <td>0.000111</td>\n",
              "      <td>0.000119</td>\n",
              "      <td>...</td>\n",
              "      <td>0.000121</td>\n",
              "      <td>0.000100</td>\n",
              "      <td>0.000154</td>\n",
              "      <td>0.000162</td>\n",
              "      <td>0.000268</td>\n",
              "      <td>0.000114</td>\n",
              "      <td>0.000050</td>\n",
              "      <td>0.000071</td>\n",
              "      <td>0.000125</td>\n",
              "      <td>0</td>\n",
              "    </tr>\n",
              "    <tr>\n",
              "      <th>4</th>\n",
              "      <td>0.000186</td>\n",
              "      <td>0.000159</td>\n",
              "      <td>0.000227</td>\n",
              "      <td>0.000208</td>\n",
              "      <td>0.000184</td>\n",
              "      <td>0.000412</td>\n",
              "      <td>0.000230</td>\n",
              "      <td>0.000230</td>\n",
              "      <td>0.000300</td>\n",
              "      <td>0.000294</td>\n",
              "      <td>...</td>\n",
              "      <td>0.000280</td>\n",
              "      <td>0.000179</td>\n",
              "      <td>0.000351</td>\n",
              "      <td>0.000331</td>\n",
              "      <td>0.000502</td>\n",
              "      <td>0.000240</td>\n",
              "      <td>0.000121</td>\n",
              "      <td>0.000137</td>\n",
              "      <td>0.000317</td>\n",
              "      <td>0</td>\n",
              "    </tr>\n",
              "  </tbody>\n",
              "</table>\n",
              "<p>5 rows × 1001 columns</p>\n",
              "</div>\n",
              "      <button class=\"colab-df-convert\" onclick=\"convertToInteractive('df-6e2bb9ed-9344-46d3-a76c-4e9ae2ef3d6e')\"\n",
              "              title=\"Convert this dataframe to an interactive table.\"\n",
              "              style=\"display:none;\">\n",
              "        \n",
              "  <svg xmlns=\"http://www.w3.org/2000/svg\" height=\"24px\"viewBox=\"0 0 24 24\"\n",
              "       width=\"24px\">\n",
              "    <path d=\"M0 0h24v24H0V0z\" fill=\"none\"/>\n",
              "    <path d=\"M18.56 5.44l.94 2.06.94-2.06 2.06-.94-2.06-.94-.94-2.06-.94 2.06-2.06.94zm-11 1L8.5 8.5l.94-2.06 2.06-.94-2.06-.94L8.5 2.5l-.94 2.06-2.06.94zm10 10l.94 2.06.94-2.06 2.06-.94-2.06-.94-.94-2.06-.94 2.06-2.06.94z\"/><path d=\"M17.41 7.96l-1.37-1.37c-.4-.4-.92-.59-1.43-.59-.52 0-1.04.2-1.43.59L10.3 9.45l-7.72 7.72c-.78.78-.78 2.05 0 2.83L4 21.41c.39.39.9.59 1.41.59.51 0 1.02-.2 1.41-.59l7.78-7.78 2.81-2.81c.8-.78.8-2.07 0-2.86zM5.41 20L4 18.59l7.72-7.72 1.47 1.35L5.41 20z\"/>\n",
              "  </svg>\n",
              "      </button>\n",
              "      \n",
              "  <style>\n",
              "    .colab-df-container {\n",
              "      display:flex;\n",
              "      flex-wrap:wrap;\n",
              "      gap: 12px;\n",
              "    }\n",
              "\n",
              "    .colab-df-convert {\n",
              "      background-color: #E8F0FE;\n",
              "      border: none;\n",
              "      border-radius: 50%;\n",
              "      cursor: pointer;\n",
              "      display: none;\n",
              "      fill: #1967D2;\n",
              "      height: 32px;\n",
              "      padding: 0 0 0 0;\n",
              "      width: 32px;\n",
              "    }\n",
              "\n",
              "    .colab-df-convert:hover {\n",
              "      background-color: #E2EBFA;\n",
              "      box-shadow: 0px 1px 2px rgba(60, 64, 67, 0.3), 0px 1px 3px 1px rgba(60, 64, 67, 0.15);\n",
              "      fill: #174EA6;\n",
              "    }\n",
              "\n",
              "    [theme=dark] .colab-df-convert {\n",
              "      background-color: #3B4455;\n",
              "      fill: #D2E3FC;\n",
              "    }\n",
              "\n",
              "    [theme=dark] .colab-df-convert:hover {\n",
              "      background-color: #434B5C;\n",
              "      box-shadow: 0px 1px 3px 1px rgba(0, 0, 0, 0.15);\n",
              "      filter: drop-shadow(0px 1px 2px rgba(0, 0, 0, 0.3));\n",
              "      fill: #FFFFFF;\n",
              "    }\n",
              "  </style>\n",
              "\n",
              "      <script>\n",
              "        const buttonEl =\n",
              "          document.querySelector('#df-6e2bb9ed-9344-46d3-a76c-4e9ae2ef3d6e button.colab-df-convert');\n",
              "        buttonEl.style.display =\n",
              "          google.colab.kernel.accessAllowed ? 'block' : 'none';\n",
              "\n",
              "        async function convertToInteractive(key) {\n",
              "          const element = document.querySelector('#df-6e2bb9ed-9344-46d3-a76c-4e9ae2ef3d6e');\n",
              "          const dataTable =\n",
              "            await google.colab.kernel.invokeFunction('convertToInteractive',\n",
              "                                                     [key], {});\n",
              "          if (!dataTable) return;\n",
              "\n",
              "          const docLinkHtml = 'Like what you see? Visit the ' +\n",
              "            '<a target=\"_blank\" href=https://colab.research.google.com/notebooks/data_table.ipynb>data table notebook</a>'\n",
              "            + ' to learn more about interactive tables.';\n",
              "          element.innerHTML = '';\n",
              "          dataTable['output_type'] = 'display_data';\n",
              "          await google.colab.output.renderOutput(dataTable, element);\n",
              "          const docLink = document.createElement('div');\n",
              "          docLink.innerHTML = docLinkHtml;\n",
              "          element.appendChild(docLink);\n",
              "        }\n",
              "      </script>\n",
              "    </div>\n",
              "  </div>\n",
              "  "
            ]
          },
          "metadata": {},
          "execution_count": 78
        }
      ]
    },
    {
      "cell_type": "code",
      "source": [
        "# Separação do conjunto alvo para validação:\n",
        "esperado, alvo = alvo[\"Classe\"], alvo.drop(\"Classe\", axis=1)"
      ],
      "metadata": {
        "id": "7FmqK7Cl6uCD"
      },
      "execution_count": null,
      "outputs": []
    },
    {
      "cell_type": "code",
      "source": [
        "# Separação do conjunto de treinamento:\n",
        "subteste = data.drop(\"Classe\", axis=1)\n",
        "valores = data[\"Classe\"]"
      ],
      "metadata": {
        "id": "Z9Z6u5U_nXkc"
      },
      "execution_count": null,
      "outputs": []
    },
    {
      "cell_type": "markdown",
      "source": [
        "# **Preparação do conjunto para Logistic Regression**"
      ],
      "metadata": {
        "id": "8NkAukNbJrGq"
      }
    },
    {
      "cell_type": "code",
      "source": [
        "# Normatização dos dados:\n",
        "x_treino, x_teste, y_treino, y_teste = train_test_split(subteste, valores, test_size=0.1)\n"
      ],
      "metadata": {
        "id": "t6jWX7gx--Fz"
      },
      "execution_count": null,
      "outputs": []
    },
    {
      "cell_type": "code",
      "source": [
        "# Parametros\n",
        "C_val\t= [0.25, 0.500, 0.750, 1]\n",
        "Kernel_val = ['linear', 'poly', 'rbf', 'sigmoid']\n",
        "degree_val\t= [3]"
      ],
      "metadata": {
        "id": "2MjxyP7KeHRI"
      },
      "execution_count": null,
      "outputs": []
    },
    {
      "cell_type": "code",
      "source": [
        "# Cria dicionario com os dados\n",
        "lista = []\n",
        "cont = 0\n",
        "for i in C_val:\n",
        "  for y in Kernel_val:\n",
        "    for z in degree_val:\n",
        "      valor = [i, y, z]\n",
        "      lista.append(valor)\n",
        "      print(f'C: {i}  Kernel: \"{y}\" degree: {z}')"
      ],
      "metadata": {
        "colab": {
          "base_uri": "https://localhost:8080/"
        },
        "id": "enAasdIagGpY",
        "outputId": "da5648a8-acf9-4a64-adc1-a21eb42b860c"
      },
      "execution_count": null,
      "outputs": [
        {
          "output_type": "stream",
          "name": "stdout",
          "text": [
            "C: 0.25  Kernel: \"linear\" degree: 3\n",
            "C: 0.25  Kernel: \"poly\" degree: 3\n",
            "C: 0.25  Kernel: \"rbf\" degree: 3\n",
            "C: 0.25  Kernel: \"sigmoid\" degree: 3\n",
            "C: 0.5  Kernel: \"linear\" degree: 3\n",
            "C: 0.5  Kernel: \"poly\" degree: 3\n",
            "C: 0.5  Kernel: \"rbf\" degree: 3\n",
            "C: 0.5  Kernel: \"sigmoid\" degree: 3\n",
            "C: 0.75  Kernel: \"linear\" degree: 3\n",
            "C: 0.75  Kernel: \"poly\" degree: 3\n",
            "C: 0.75  Kernel: \"rbf\" degree: 3\n",
            "C: 0.75  Kernel: \"sigmoid\" degree: 3\n",
            "C: 1  Kernel: \"linear\" degree: 3\n",
            "C: 1  Kernel: \"poly\" degree: 3\n",
            "C: 1  Kernel: \"rbf\" degree: 3\n",
            "C: 1  Kernel: \"sigmoid\" degree: 3\n"
          ]
        }
      ]
    },
    {
      "cell_type": "code",
      "source": [
        "# Treinamento do modelo\n",
        "import pandas as pd\n",
        "cnn_select = path[select_cnn]\n",
        "print(f'CNN Selecionada: {cnn_select}')\n",
        "output = pd.DataFrame()\n",
        "for valores in lista:\n",
        "  model_compile = Load_model(valores[0], valores[1], valores[2])\n",
        "  modelo = model_compile['Model']\n",
        "  tempo = model_compile['Tempo']\n",
        "  \n",
        "  y_true = y_teste\n",
        "  y_pred = modelo.predict(x_teste)\n",
        "  prev = prevision(y_true, y_pred, tempo)\n",
        "  df_dictionary = pd.DataFrame([prev])\n",
        "  output = pd.concat([output, df_dictionary], ignore_index=True)\n",
        "\n",
        "  print(f'Penalty: {valores[0]}  C_val: {valores[1]} Max_val: {valores[2]} {prev}')"
      ],
      "metadata": {
        "colab": {
          "base_uri": "https://localhost:8080/"
        },
        "id": "6bHGW3Y0jLMk",
        "outputId": "1f4d2052-8059-4c75-ff56-b891d25f8582"
      },
      "execution_count": null,
      "outputs": [
        {
          "output_type": "stream",
          "name": "stdout",
          "text": [
            "CNN Selecionada: EfficientNetV2L\n",
            "Penalty: 0.25  C_val: linear Max_val: 3 {'f1-Score': '0.9889', 'Precision': '0.9890', 'Recall': '0.9888', 'tempo': '0.0002'}\n",
            "Penalty: 0.25  C_val: poly Max_val: 3 {'f1-Score': '0.8753', 'Precision': '0.9167', 'Recall': '0.8648', 'tempo': '0.0002'}\n",
            "Penalty: 0.25  C_val: rbf Max_val: 3 {'f1-Score': '0.9318', 'Precision': '0.9410', 'Recall': '0.9270', 'tempo': '0.0002'}\n",
            "Penalty: 0.25  C_val: sigmoid Max_val: 3 {'f1-Score': '0.9665', 'Precision': '0.9656', 'Recall': '0.9681', 'tempo': '0.0002'}\n",
            "Penalty: 0.5  C_val: linear Max_val: 3 {'f1-Score': '0.9929', 'Precision': '0.9923', 'Recall': '0.9938', 'tempo': '0.0001'}\n",
            "Penalty: 0.5  C_val: poly Max_val: 3 {'f1-Score': '0.9110', 'Precision': '0.9371', 'Recall': '0.9015', 'tempo': '0.0002'}\n",
            "Penalty: 0.5  C_val: rbf Max_val: 3 {'f1-Score': '0.9500', 'Precision': '0.9566', 'Recall': '0.9462', 'tempo': '0.0001'}\n",
            "Penalty: 0.5  C_val: sigmoid Max_val: 3 {'f1-Score': '0.9614', 'Precision': '0.9597', 'Recall': '0.9659', 'tempo': '0.0001'}\n",
            "Penalty: 0.75  C_val: linear Max_val: 3 {'f1-Score': '0.9929', 'Precision': '0.9923', 'Recall': '0.9938', 'tempo': '0.0001'}\n",
            "Penalty: 0.75  C_val: poly Max_val: 3 {'f1-Score': '0.9227', 'Precision': '0.9409', 'Recall': '0.9149', 'tempo': '0.0001'}\n",
            "Penalty: 0.75  C_val: rbf Max_val: 3 {'f1-Score': '0.9600', 'Precision': '0.9647', 'Recall': '0.9572', 'tempo': '0.0001'}\n",
            "Penalty: 0.75  C_val: sigmoid Max_val: 3 {'f1-Score': '0.9542', 'Precision': '0.9532', 'Recall': '0.9578', 'tempo': '0.0001'}\n",
            "Penalty: 1  C_val: linear Max_val: 3 {'f1-Score': '0.9929', 'Precision': '0.9923', 'Recall': '0.9938', 'tempo': '0.0001'}\n",
            "Penalty: 1  C_val: poly Max_val: 3 {'f1-Score': '0.9378', 'Precision': '0.9483', 'Recall': '0.9318', 'tempo': '0.0002'}\n",
            "Penalty: 1  C_val: rbf Max_val: 3 {'f1-Score': '0.9642', 'Precision': '0.9681', 'Recall': '0.9622', 'tempo': '0.0002'}\n",
            "Penalty: 1  C_val: sigmoid Max_val: 3 {'f1-Score': '0.9542', 'Precision': '0.9532', 'Recall': '0.9578', 'tempo': '0.0001'}\n"
          ]
        }
      ]
    },
    {
      "cell_type": "code",
      "source": [
        "output.head(50)"
      ],
      "metadata": {
        "colab": {
          "base_uri": "https://localhost:8080/",
          "height": 206
        },
        "id": "rxvUDPerwYpN",
        "outputId": "90d31fd4-483f-46ef-fea7-1949da024464"
      },
      "execution_count": null,
      "outputs": [
        {
          "output_type": "execute_result",
          "data": {
            "text/plain": [
              "  f1-Score Precision  Recall   tempo\n",
              "0   0.9889    0.9890  0.9888  0.0002\n",
              "1   0.8753    0.9167  0.8648  0.0002\n",
              "2   0.9318    0.9410  0.9270  0.0002\n",
              "3   0.9665    0.9656  0.9681  0.0002\n",
              "4   0.9929    0.9923  0.9938  0.0001"
            ],
            "text/html": [
              "\n",
              "  <div id=\"df-733fa834-caac-4f3b-8864-ac406aef21df\">\n",
              "    <div class=\"colab-df-container\">\n",
              "      <div>\n",
              "<style scoped>\n",
              "    .dataframe tbody tr th:only-of-type {\n",
              "        vertical-align: middle;\n",
              "    }\n",
              "\n",
              "    .dataframe tbody tr th {\n",
              "        vertical-align: top;\n",
              "    }\n",
              "\n",
              "    .dataframe thead th {\n",
              "        text-align: right;\n",
              "    }\n",
              "</style>\n",
              "<table border=\"1\" class=\"dataframe\">\n",
              "  <thead>\n",
              "    <tr style=\"text-align: right;\">\n",
              "      <th></th>\n",
              "      <th>f1-Score</th>\n",
              "      <th>Precision</th>\n",
              "      <th>Recall</th>\n",
              "      <th>tempo</th>\n",
              "    </tr>\n",
              "  </thead>\n",
              "  <tbody>\n",
              "    <tr>\n",
              "      <th>0</th>\n",
              "      <td>0.9889</td>\n",
              "      <td>0.9890</td>\n",
              "      <td>0.9888</td>\n",
              "      <td>0.0002</td>\n",
              "    </tr>\n",
              "    <tr>\n",
              "      <th>1</th>\n",
              "      <td>0.8753</td>\n",
              "      <td>0.9167</td>\n",
              "      <td>0.8648</td>\n",
              "      <td>0.0002</td>\n",
              "    </tr>\n",
              "    <tr>\n",
              "      <th>2</th>\n",
              "      <td>0.9318</td>\n",
              "      <td>0.9410</td>\n",
              "      <td>0.9270</td>\n",
              "      <td>0.0002</td>\n",
              "    </tr>\n",
              "    <tr>\n",
              "      <th>3</th>\n",
              "      <td>0.9665</td>\n",
              "      <td>0.9656</td>\n",
              "      <td>0.9681</td>\n",
              "      <td>0.0002</td>\n",
              "    </tr>\n",
              "    <tr>\n",
              "      <th>4</th>\n",
              "      <td>0.9929</td>\n",
              "      <td>0.9923</td>\n",
              "      <td>0.9938</td>\n",
              "      <td>0.0001</td>\n",
              "    </tr>\n",
              "  </tbody>\n",
              "</table>\n",
              "</div>\n",
              "      <button class=\"colab-df-convert\" onclick=\"convertToInteractive('df-733fa834-caac-4f3b-8864-ac406aef21df')\"\n",
              "              title=\"Convert this dataframe to an interactive table.\"\n",
              "              style=\"display:none;\">\n",
              "        \n",
              "  <svg xmlns=\"http://www.w3.org/2000/svg\" height=\"24px\"viewBox=\"0 0 24 24\"\n",
              "       width=\"24px\">\n",
              "    <path d=\"M0 0h24v24H0V0z\" fill=\"none\"/>\n",
              "    <path d=\"M18.56 5.44l.94 2.06.94-2.06 2.06-.94-2.06-.94-.94-2.06-.94 2.06-2.06.94zm-11 1L8.5 8.5l.94-2.06 2.06-.94-2.06-.94L8.5 2.5l-.94 2.06-2.06.94zm10 10l.94 2.06.94-2.06 2.06-.94-2.06-.94-.94-2.06-.94 2.06-2.06.94z\"/><path d=\"M17.41 7.96l-1.37-1.37c-.4-.4-.92-.59-1.43-.59-.52 0-1.04.2-1.43.59L10.3 9.45l-7.72 7.72c-.78.78-.78 2.05 0 2.83L4 21.41c.39.39.9.59 1.41.59.51 0 1.02-.2 1.41-.59l7.78-7.78 2.81-2.81c.8-.78.8-2.07 0-2.86zM5.41 20L4 18.59l7.72-7.72 1.47 1.35L5.41 20z\"/>\n",
              "  </svg>\n",
              "      </button>\n",
              "      \n",
              "  <style>\n",
              "    .colab-df-container {\n",
              "      display:flex;\n",
              "      flex-wrap:wrap;\n",
              "      gap: 12px;\n",
              "    }\n",
              "\n",
              "    .colab-df-convert {\n",
              "      background-color: #E8F0FE;\n",
              "      border: none;\n",
              "      border-radius: 50%;\n",
              "      cursor: pointer;\n",
              "      display: none;\n",
              "      fill: #1967D2;\n",
              "      height: 32px;\n",
              "      padding: 0 0 0 0;\n",
              "      width: 32px;\n",
              "    }\n",
              "\n",
              "    .colab-df-convert:hover {\n",
              "      background-color: #E2EBFA;\n",
              "      box-shadow: 0px 1px 2px rgba(60, 64, 67, 0.3), 0px 1px 3px 1px rgba(60, 64, 67, 0.15);\n",
              "      fill: #174EA6;\n",
              "    }\n",
              "\n",
              "    [theme=dark] .colab-df-convert {\n",
              "      background-color: #3B4455;\n",
              "      fill: #D2E3FC;\n",
              "    }\n",
              "\n",
              "    [theme=dark] .colab-df-convert:hover {\n",
              "      background-color: #434B5C;\n",
              "      box-shadow: 0px 1px 3px 1px rgba(0, 0, 0, 0.15);\n",
              "      filter: drop-shadow(0px 1px 2px rgba(0, 0, 0, 0.3));\n",
              "      fill: #FFFFFF;\n",
              "    }\n",
              "  </style>\n",
              "\n",
              "      <script>\n",
              "        const buttonEl =\n",
              "          document.querySelector('#df-733fa834-caac-4f3b-8864-ac406aef21df button.colab-df-convert');\n",
              "        buttonEl.style.display =\n",
              "          google.colab.kernel.accessAllowed ? 'block' : 'none';\n",
              "\n",
              "        async function convertToInteractive(key) {\n",
              "          const element = document.querySelector('#df-733fa834-caac-4f3b-8864-ac406aef21df');\n",
              "          const dataTable =\n",
              "            await google.colab.kernel.invokeFunction('convertToInteractive',\n",
              "                                                     [key], {});\n",
              "          if (!dataTable) return;\n",
              "\n",
              "          const docLinkHtml = 'Like what you see? Visit the ' +\n",
              "            '<a target=\"_blank\" href=https://colab.research.google.com/notebooks/data_table.ipynb>data table notebook</a>'\n",
              "            + ' to learn more about interactive tables.';\n",
              "          element.innerHTML = '';\n",
              "          dataTable['output_type'] = 'display_data';\n",
              "          await google.colab.output.renderOutput(dataTable, element);\n",
              "          const docLink = document.createElement('div');\n",
              "          docLink.innerHTML = docLinkHtml;\n",
              "          element.appendChild(docLink);\n",
              "        }\n",
              "      </script>\n",
              "    </div>\n",
              "  </div>\n",
              "  "
            ]
          },
          "metadata": {},
          "execution_count": 85
        }
      ]
    },
    {
      "cell_type": "markdown",
      "source": [
        "Salvar_dataframe"
      ],
      "metadata": {
        "id": "LhMQZ-w48XY_"
      }
    },
    {
      "cell_type": "code",
      "source": [
        "# writing to Excel\n",
        "name_save = f'SVM_{cnn_select}_2022.xlsx'\n",
        "datatoexcel = pd.ExcelWriter(name_save)\n",
        "\n",
        "  \n",
        "# write DataFrame to excel\n",
        "output.to_excel(datatoexcel)\n",
        "  \n",
        "# save the excel\n",
        "datatoexcel.save()\n",
        "\n",
        "print(f'Arquivo: {name_save} salvo')\n",
        "print('DataFrame is written to Excel File successfully.')"
      ],
      "metadata": {
        "colab": {
          "base_uri": "https://localhost:8080/"
        },
        "id": "iUoG4Mf2wujj",
        "outputId": "b7a12cf1-4858-4dc0-e7e3-c53fb5263d21"
      },
      "execution_count": null,
      "outputs": [
        {
          "output_type": "stream",
          "name": "stdout",
          "text": [
            "Arquivo: SVM_EfficientNetV2L_2022.xlsx salvo\n",
            "DataFrame is written to Excel File successfully.\n"
          ]
        }
      ]
    }
  ]
}