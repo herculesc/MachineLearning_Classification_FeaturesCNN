{
  "nbformat": 4,
  "nbformat_minor": 0,
  "metadata": {
    "colab": {
      "name": "MLP-2022_IC-INPE.ipynb",
      "provenance": [],
      "collapsed_sections": [],
      "include_colab_link": true
    },
    "kernelspec": {
      "name": "python3",
      "display_name": "Python 3"
    },
    "language_info": {
      "name": "python"
    },
    "accelerator": "GPU",
    "gpuClass": "standard"
  },
  "cells": [
    {
      "cell_type": "markdown",
      "metadata": {
        "id": "view-in-github",
        "colab_type": "text"
      },
      "source": [
        "<a href=\"https://colab.research.google.com/github/herculesc/MachineLearning_Classification_FeaturesCNN/blob/main/MLP_2022_IC_INPE.ipynb\" target=\"_parent\"><img src=\"https://colab.research.google.com/assets/colab-badge.svg\" alt=\"Open In Colab\"/></a>"
      ]
    },
    {
      "cell_type": "code",
      "source": [
        "# Criar novo dataset com os CSV (ok)\n",
        "# Normalizar dados (ok)\n",
        "# Aplicar modelos \n",
        "# Validação dos modelos"
      ],
      "metadata": {
        "id": "JoqNeDBKgQQP"
      },
      "execution_count": null,
      "outputs": []
    },
    {
      "cell_type": "code",
      "source": [
        "from google.colab import drive\n",
        "drive.mount('/content/drive')"
      ],
      "metadata": {
        "id": "519f4Bl6Z0KR",
        "colab": {
          "base_uri": "https://localhost:8080/"
        },
        "outputId": "326e872d-9d26-40a9-8bb9-e5825e183073"
      },
      "execution_count": null,
      "outputs": [
        {
          "output_type": "stream",
          "name": "stdout",
          "text": [
            "Mounted at /content/drive\n"
          ]
        }
      ]
    },
    {
      "cell_type": "code",
      "execution_count": null,
      "metadata": {
        "id": "Mbcf3BDg4rJX"
      },
      "outputs": [],
      "source": [
        "from sklearn.model_selection import train_test_split\n",
        "from sklearn.preprocessing import MinMaxScaler\n",
        "from sklearn.metrics import mean_squared_error, mean_absolute_error\n",
        "from sklearn.metrics import f1_score, precision_score, recall_score, confusion_matrix\n",
        "from sklearn.neural_network import MLPClassifier\n",
        "import pandas as pd\n",
        "import numpy as np\n",
        "import matplotlib.pyplot as plt\n",
        "import seaborn as sns"
      ]
    },
    {
      "cell_type": "code",
      "source": [
        "dic_pevision = {}\n",
        "\n",
        "def prevision(y_true, y_pred, final_treino):  \n",
        "  precision = precision_score(y_true, y_pred , average=\"macro\")\n",
        "  f1 = f1_score(y_true, y_pred , average=\"macro\")\n",
        "  recall = recall_score(y_true, y_pred , average=\"macro\")\n",
        "\n",
        "  dic_pevision['f1-Score'] = \"{:.4f}\".format(f1)\n",
        "  dic_pevision['Precision'] = \"{:.4f}\".format(precision)\n",
        "  dic_pevision['Recall'] = \"{:.4f}\".format(recall)\n",
        "  dic_pevision['tempo'] = \"{:.4f}\".format(final_treino)\n",
        "  #print(f'F1: {f1:.4f} Precision:{precision:.4f} Recall:{recall:.4f} Tempo{final_treino:.4f}')\n",
        "\n",
        "  return dic_pevision"
      ],
      "metadata": {
        "id": "vz-zyGWQ7oMA"
      },
      "execution_count": null,
      "outputs": []
    },
    {
      "cell_type": "code",
      "source": [
        "# n_neuronio_val\t= (80,70)\n",
        "# func_ativacao = ['identity', 'logistic', 'tanh', 'relu']\n",
        "# solve_val\t= ['lbfgs', 'sgd', 'adam']\n",
        "# iteracao_val\t= 2000\n",
        "\n",
        "def Load_model(func_ativacao, solve_val, iteracao_val):\n",
        "  # inica a contagem do tempo\n",
        "  inicio_treino = init_time()\n",
        "  model = MLPClassifier(hidden_layer_sizes= (80,70),\n",
        "                      activation=func_ativacao,\n",
        "                      solver= solve_val,\n",
        "                      random_state=1,\n",
        "                      max_iter = iteracao_val).fit(x_treino, y_treino)\n",
        "\n",
        "  final_treino = time_ex(inicio_treino)\n",
        "  return {'Model':model, 'Tempo': final_treino}"
      ],
      "metadata": {
        "id": "QRS3DUXz_QB4"
      },
      "execution_count": null,
      "outputs": []
    },
    {
      "cell_type": "code",
      "source": [
        "import sys\n",
        "# Abrir local do arquivo\n",
        "\n",
        "sys.path.append('/content/drive/MyDrive/TensorFlow_IC')\n",
        "\n",
        "# Carrefar função do arquivo\n",
        "from Time_execution import init_time\n",
        "from Time_execution import time_ex\n",
        "timeres = []"
      ],
      "metadata": {
        "id": "XYmckPLf0_lQ"
      },
      "execution_count": null,
      "outputs": []
    },
    {
      "cell_type": "markdown",
      "source": [
        "# **Carregar conjunto de dados**"
      ],
      "metadata": {
        "id": "Jj2jaWkxs4zj"
      }
    },
    {
      "cell_type": "code",
      "source": [
        "path = ['VGG_16', 'MobileNet', 'NASNetLarge', 'EfficientNetB0', 'EfficientNetB7', 'EfficientNetV2L' ]\n",
        "train_path = []\n",
        "test_path = []\n",
        "for i in path:\n",
        "  train = f'/content/drive/MyDrive/TensorFlow_IC/Dados/IC_Extraction_save/{i}/{i}_Train.csv'\n",
        "  train_path.append(train)\n",
        "  \n",
        "  test = f'/content/drive/MyDrive/TensorFlow_IC/Dados/IC_Extraction_save/{i}/{i}_Test.csv'\n",
        "  test_path.append(test)\n"
      ],
      "metadata": {
        "id": "5hhSwWXKs1xa"
      },
      "execution_count": null,
      "outputs": []
    },
    {
      "cell_type": "code",
      "source": [
        "select_cnn = 3\n",
        "selecao_train = train_path[select_cnn] \n",
        "selecao_test = test_path[select_cnn]\n",
        "\n",
        "print(selecao_train)\n",
        "print(selecao_test)"
      ],
      "metadata": {
        "colab": {
          "base_uri": "https://localhost:8080/"
        },
        "id": "d3VIbU6etF33",
        "outputId": "be092518-057c-42c0-8ab4-bbe126df36bb"
      },
      "execution_count": null,
      "outputs": [
        {
          "output_type": "stream",
          "name": "stdout",
          "text": [
            "/content/drive/MyDrive/TensorFlow_IC/Dados/IC_Extraction_save/EfficientNetB0/EfficientNetB0_Train.csv\n",
            "/content/drive/MyDrive/TensorFlow_IC/Dados/IC_Extraction_save/EfficientNetB0/EfficientNetB0_Test.csv\n"
          ]
        }
      ]
    },
    {
      "cell_type": "code",
      "source": [
        "data = pd.read_csv(selecao_train)\n",
        "alvo = pd.read_csv(selecao_test)\n",
        "\n",
        "# Remover coluna vazia\n",
        "data = data.drop(columns=['Unnamed: 0'])\n",
        "alvo = alvo.drop(columns=['Unnamed: 0'])"
      ],
      "metadata": {
        "id": "O7wGXDiItjhS"
      },
      "execution_count": null,
      "outputs": []
    },
    {
      "cell_type": "code",
      "source": [
        "# Separação do conjunto alvo para validação:\n",
        "#alvo = alvo.drop(\"city\", axis=1)\n",
        "esperado, alvo = alvo[\"Classe\"], alvo.drop(\"Classe\", axis=1)\n",
        "\n"
      ],
      "metadata": {
        "id": "7FmqK7Cl6uCD"
      },
      "execution_count": null,
      "outputs": []
    },
    {
      "cell_type": "code",
      "source": [
        "# Extração do conjunto de treinamento e alvo:\n",
        "data = pd.read_csv(selecao_train)\n",
        "alvo = pd.read_csv(selecao_test)\n",
        "\n",
        "# Remover coluna vazia\n",
        "data = data.drop(columns=['Unnamed: 0'])\n",
        "alvo = alvo.drop(columns=['Unnamed: 0'])"
      ],
      "metadata": {
        "id": "mD9eG907tpZB"
      },
      "execution_count": null,
      "outputs": []
    },
    {
      "cell_type": "code",
      "source": [
        "data.head()"
      ],
      "metadata": {
        "colab": {
          "base_uri": "https://localhost:8080/",
          "height": 300
        },
        "id": "tEHatFcUtuic",
        "outputId": "a7a0e7d6-55ef-46f9-d940-0c187242a250"
      },
      "execution_count": null,
      "outputs": [
        {
          "output_type": "execute_result",
          "data": {
            "text/plain": [
              "         N1        N2        N3        N4        N5        N6        N7  \\\n",
              "0  0.000110  0.000690  0.000115  0.000099  0.000293  0.000216  0.000213   \n",
              "1  0.000163  0.000479  0.000062  0.000062  0.000223  0.000628  0.000333   \n",
              "2  0.000078  0.000289  0.000393  0.000485  0.000705  0.000809  0.000440   \n",
              "3  0.000157  0.000083  0.000066  0.000054  0.000060  0.000272  0.000147   \n",
              "4  0.000077  0.000095  0.000044  0.000062  0.000049  0.000382  0.000140   \n",
              "\n",
              "         N8        N9       N10  ...      N992      N993      N994      N995  \\\n",
              "0  0.000245  0.000398  0.000191  ...  0.000085  0.000212  0.000207  0.000136   \n",
              "1  0.000258  0.000318  0.000130  ...  0.000074  0.000326  0.000179  0.000125   \n",
              "2  0.000032  0.000153  0.000183  ...  0.000084  0.000164  0.000154  0.000088   \n",
              "3  0.000151  0.000113  0.000382  ...  0.000153  0.000180  0.000238  0.000306   \n",
              "4  0.000119  0.000301  0.000360  ...  0.000230  0.000158  0.000393  0.000263   \n",
              "\n",
              "       N996      N997      N998      N999     N1000  Clas  \n",
              "0  0.000151  0.000121  0.000144  0.000807  0.000625     0  \n",
              "1  0.000170  0.000102  0.000121  0.000419  0.000916     0  \n",
              "2  0.000291  0.000274  0.000193  0.000093  0.000950     0  \n",
              "3  0.000062  0.000506  0.000096  0.000192  0.000361     0  \n",
              "4  0.000085  0.000535  0.000086  0.000103  0.000310     0  \n",
              "\n",
              "[5 rows x 1001 columns]"
            ],
            "text/html": [
              "\n",
              "  <div id=\"df-3fe3a37b-8533-4789-aa1d-d4c356f88c93\">\n",
              "    <div class=\"colab-df-container\">\n",
              "      <div>\n",
              "<style scoped>\n",
              "    .dataframe tbody tr th:only-of-type {\n",
              "        vertical-align: middle;\n",
              "    }\n",
              "\n",
              "    .dataframe tbody tr th {\n",
              "        vertical-align: top;\n",
              "    }\n",
              "\n",
              "    .dataframe thead th {\n",
              "        text-align: right;\n",
              "    }\n",
              "</style>\n",
              "<table border=\"1\" class=\"dataframe\">\n",
              "  <thead>\n",
              "    <tr style=\"text-align: right;\">\n",
              "      <th></th>\n",
              "      <th>N1</th>\n",
              "      <th>N2</th>\n",
              "      <th>N3</th>\n",
              "      <th>N4</th>\n",
              "      <th>N5</th>\n",
              "      <th>N6</th>\n",
              "      <th>N7</th>\n",
              "      <th>N8</th>\n",
              "      <th>N9</th>\n",
              "      <th>N10</th>\n",
              "      <th>...</th>\n",
              "      <th>N992</th>\n",
              "      <th>N993</th>\n",
              "      <th>N994</th>\n",
              "      <th>N995</th>\n",
              "      <th>N996</th>\n",
              "      <th>N997</th>\n",
              "      <th>N998</th>\n",
              "      <th>N999</th>\n",
              "      <th>N1000</th>\n",
              "      <th>Clas</th>\n",
              "    </tr>\n",
              "  </thead>\n",
              "  <tbody>\n",
              "    <tr>\n",
              "      <th>0</th>\n",
              "      <td>0.000110</td>\n",
              "      <td>0.000690</td>\n",
              "      <td>0.000115</td>\n",
              "      <td>0.000099</td>\n",
              "      <td>0.000293</td>\n",
              "      <td>0.000216</td>\n",
              "      <td>0.000213</td>\n",
              "      <td>0.000245</td>\n",
              "      <td>0.000398</td>\n",
              "      <td>0.000191</td>\n",
              "      <td>...</td>\n",
              "      <td>0.000085</td>\n",
              "      <td>0.000212</td>\n",
              "      <td>0.000207</td>\n",
              "      <td>0.000136</td>\n",
              "      <td>0.000151</td>\n",
              "      <td>0.000121</td>\n",
              "      <td>0.000144</td>\n",
              "      <td>0.000807</td>\n",
              "      <td>0.000625</td>\n",
              "      <td>0</td>\n",
              "    </tr>\n",
              "    <tr>\n",
              "      <th>1</th>\n",
              "      <td>0.000163</td>\n",
              "      <td>0.000479</td>\n",
              "      <td>0.000062</td>\n",
              "      <td>0.000062</td>\n",
              "      <td>0.000223</td>\n",
              "      <td>0.000628</td>\n",
              "      <td>0.000333</td>\n",
              "      <td>0.000258</td>\n",
              "      <td>0.000318</td>\n",
              "      <td>0.000130</td>\n",
              "      <td>...</td>\n",
              "      <td>0.000074</td>\n",
              "      <td>0.000326</td>\n",
              "      <td>0.000179</td>\n",
              "      <td>0.000125</td>\n",
              "      <td>0.000170</td>\n",
              "      <td>0.000102</td>\n",
              "      <td>0.000121</td>\n",
              "      <td>0.000419</td>\n",
              "      <td>0.000916</td>\n",
              "      <td>0</td>\n",
              "    </tr>\n",
              "    <tr>\n",
              "      <th>2</th>\n",
              "      <td>0.000078</td>\n",
              "      <td>0.000289</td>\n",
              "      <td>0.000393</td>\n",
              "      <td>0.000485</td>\n",
              "      <td>0.000705</td>\n",
              "      <td>0.000809</td>\n",
              "      <td>0.000440</td>\n",
              "      <td>0.000032</td>\n",
              "      <td>0.000153</td>\n",
              "      <td>0.000183</td>\n",
              "      <td>...</td>\n",
              "      <td>0.000084</td>\n",
              "      <td>0.000164</td>\n",
              "      <td>0.000154</td>\n",
              "      <td>0.000088</td>\n",
              "      <td>0.000291</td>\n",
              "      <td>0.000274</td>\n",
              "      <td>0.000193</td>\n",
              "      <td>0.000093</td>\n",
              "      <td>0.000950</td>\n",
              "      <td>0</td>\n",
              "    </tr>\n",
              "    <tr>\n",
              "      <th>3</th>\n",
              "      <td>0.000157</td>\n",
              "      <td>0.000083</td>\n",
              "      <td>0.000066</td>\n",
              "      <td>0.000054</td>\n",
              "      <td>0.000060</td>\n",
              "      <td>0.000272</td>\n",
              "      <td>0.000147</td>\n",
              "      <td>0.000151</td>\n",
              "      <td>0.000113</td>\n",
              "      <td>0.000382</td>\n",
              "      <td>...</td>\n",
              "      <td>0.000153</td>\n",
              "      <td>0.000180</td>\n",
              "      <td>0.000238</td>\n",
              "      <td>0.000306</td>\n",
              "      <td>0.000062</td>\n",
              "      <td>0.000506</td>\n",
              "      <td>0.000096</td>\n",
              "      <td>0.000192</td>\n",
              "      <td>0.000361</td>\n",
              "      <td>0</td>\n",
              "    </tr>\n",
              "    <tr>\n",
              "      <th>4</th>\n",
              "      <td>0.000077</td>\n",
              "      <td>0.000095</td>\n",
              "      <td>0.000044</td>\n",
              "      <td>0.000062</td>\n",
              "      <td>0.000049</td>\n",
              "      <td>0.000382</td>\n",
              "      <td>0.000140</td>\n",
              "      <td>0.000119</td>\n",
              "      <td>0.000301</td>\n",
              "      <td>0.000360</td>\n",
              "      <td>...</td>\n",
              "      <td>0.000230</td>\n",
              "      <td>0.000158</td>\n",
              "      <td>0.000393</td>\n",
              "      <td>0.000263</td>\n",
              "      <td>0.000085</td>\n",
              "      <td>0.000535</td>\n",
              "      <td>0.000086</td>\n",
              "      <td>0.000103</td>\n",
              "      <td>0.000310</td>\n",
              "      <td>0</td>\n",
              "    </tr>\n",
              "  </tbody>\n",
              "</table>\n",
              "<p>5 rows × 1001 columns</p>\n",
              "</div>\n",
              "      <button class=\"colab-df-convert\" onclick=\"convertToInteractive('df-3fe3a37b-8533-4789-aa1d-d4c356f88c93')\"\n",
              "              title=\"Convert this dataframe to an interactive table.\"\n",
              "              style=\"display:none;\">\n",
              "        \n",
              "  <svg xmlns=\"http://www.w3.org/2000/svg\" height=\"24px\"viewBox=\"0 0 24 24\"\n",
              "       width=\"24px\">\n",
              "    <path d=\"M0 0h24v24H0V0z\" fill=\"none\"/>\n",
              "    <path d=\"M18.56 5.44l.94 2.06.94-2.06 2.06-.94-2.06-.94-.94-2.06-.94 2.06-2.06.94zm-11 1L8.5 8.5l.94-2.06 2.06-.94-2.06-.94L8.5 2.5l-.94 2.06-2.06.94zm10 10l.94 2.06.94-2.06 2.06-.94-2.06-.94-.94-2.06-.94 2.06-2.06.94z\"/><path d=\"M17.41 7.96l-1.37-1.37c-.4-.4-.92-.59-1.43-.59-.52 0-1.04.2-1.43.59L10.3 9.45l-7.72 7.72c-.78.78-.78 2.05 0 2.83L4 21.41c.39.39.9.59 1.41.59.51 0 1.02-.2 1.41-.59l7.78-7.78 2.81-2.81c.8-.78.8-2.07 0-2.86zM5.41 20L4 18.59l7.72-7.72 1.47 1.35L5.41 20z\"/>\n",
              "  </svg>\n",
              "      </button>\n",
              "      \n",
              "  <style>\n",
              "    .colab-df-container {\n",
              "      display:flex;\n",
              "      flex-wrap:wrap;\n",
              "      gap: 12px;\n",
              "    }\n",
              "\n",
              "    .colab-df-convert {\n",
              "      background-color: #E8F0FE;\n",
              "      border: none;\n",
              "      border-radius: 50%;\n",
              "      cursor: pointer;\n",
              "      display: none;\n",
              "      fill: #1967D2;\n",
              "      height: 32px;\n",
              "      padding: 0 0 0 0;\n",
              "      width: 32px;\n",
              "    }\n",
              "\n",
              "    .colab-df-convert:hover {\n",
              "      background-color: #E2EBFA;\n",
              "      box-shadow: 0px 1px 2px rgba(60, 64, 67, 0.3), 0px 1px 3px 1px rgba(60, 64, 67, 0.15);\n",
              "      fill: #174EA6;\n",
              "    }\n",
              "\n",
              "    [theme=dark] .colab-df-convert {\n",
              "      background-color: #3B4455;\n",
              "      fill: #D2E3FC;\n",
              "    }\n",
              "\n",
              "    [theme=dark] .colab-df-convert:hover {\n",
              "      background-color: #434B5C;\n",
              "      box-shadow: 0px 1px 3px 1px rgba(0, 0, 0, 0.15);\n",
              "      filter: drop-shadow(0px 1px 2px rgba(0, 0, 0, 0.3));\n",
              "      fill: #FFFFFF;\n",
              "    }\n",
              "  </style>\n",
              "\n",
              "      <script>\n",
              "        const buttonEl =\n",
              "          document.querySelector('#df-3fe3a37b-8533-4789-aa1d-d4c356f88c93 button.colab-df-convert');\n",
              "        buttonEl.style.display =\n",
              "          google.colab.kernel.accessAllowed ? 'block' : 'none';\n",
              "\n",
              "        async function convertToInteractive(key) {\n",
              "          const element = document.querySelector('#df-3fe3a37b-8533-4789-aa1d-d4c356f88c93');\n",
              "          const dataTable =\n",
              "            await google.colab.kernel.invokeFunction('convertToInteractive',\n",
              "                                                     [key], {});\n",
              "          if (!dataTable) return;\n",
              "\n",
              "          const docLinkHtml = 'Like what you see? Visit the ' +\n",
              "            '<a target=\"_blank\" href=https://colab.research.google.com/notebooks/data_table.ipynb>data table notebook</a>'\n",
              "            + ' to learn more about interactive tables.';\n",
              "          element.innerHTML = '';\n",
              "          dataTable['output_type'] = 'display_data';\n",
              "          await google.colab.output.renderOutput(dataTable, element);\n",
              "          const docLink = document.createElement('div');\n",
              "          docLink.innerHTML = docLinkHtml;\n",
              "          element.appendChild(docLink);\n",
              "        }\n",
              "      </script>\n",
              "    </div>\n",
              "  </div>\n",
              "  "
            ]
          },
          "metadata": {},
          "execution_count": 14
        }
      ]
    },
    {
      "cell_type": "code",
      "source": [
        "# Separação do conjunto de treinamento:\n",
        "subteste = data.drop(\"Clas\", axis=1)\n",
        "valores = data[\"Clas\"]"
      ],
      "metadata": {
        "id": "7QKUl4nv7JOa"
      },
      "execution_count": null,
      "outputs": []
    },
    {
      "cell_type": "code",
      "source": [
        "# Normatização dos dados:\n",
        "x_treino, x_teste, y_treino, y_teste = train_test_split(subteste, valores, test_size=0.1)\n"
      ],
      "metadata": {
        "id": "t6jWX7gx--Fz"
      },
      "execution_count": null,
      "outputs": []
    },
    {
      "cell_type": "markdown",
      "source": [
        "# **Modelo Rede Neural Artificial**\n"
      ],
      "metadata": {
        "id": "-ZHbo8up9vbL"
      }
    },
    {
      "cell_type": "code",
      "source": [
        "# Parâmetros\n",
        "#n_neuronio_val\t= (80,70)\n",
        "func_ativacao = ['identity', 'logistic', 'tanh', 'relu']\n",
        "solveval\t= ['lbfgs', 'sgd', 'adam']"
      ],
      "metadata": {
        "id": "-8mZ7w9V9sDD"
      },
      "execution_count": null,
      "outputs": []
    },
    {
      "cell_type": "code",
      "source": [
        "# Cria dicionario com os dados\n",
        "lista = []\n",
        "cont = 0\n",
        "for i in func_ativacao:\n",
        "  for y in solveval:\n",
        "      valor = [i, y]\n",
        "      lista.append(valor)\n",
        "      #print(f'N_neuronio_val: {n_neuronio_val} func_ativacao: \"{i}\" solveval: {y} iteracao_val: {iteracao_val}')"
      ],
      "metadata": {
        "id": "TKoF_9PeAaIG"
      },
      "execution_count": null,
      "outputs": []
    },
    {
      "cell_type": "code",
      "source": [
        "for i in lista:\n",
        "  print(i)"
      ],
      "metadata": {
        "colab": {
          "base_uri": "https://localhost:8080/"
        },
        "id": "d95KuU89KK5l",
        "outputId": "957ddf44-4242-428f-cd44-0a7cefed0547"
      },
      "execution_count": null,
      "outputs": [
        {
          "output_type": "stream",
          "name": "stdout",
          "text": [
            "['identity', 'lbfgs']\n",
            "['identity', 'sgd']\n",
            "['identity', 'adam']\n",
            "['logistic', 'lbfgs']\n",
            "['logistic', 'sgd']\n",
            "['logistic', 'adam']\n",
            "['tanh', 'lbfgs']\n",
            "['tanh', 'sgd']\n",
            "['tanh', 'adam']\n",
            "['relu', 'lbfgs']\n",
            "['relu', 'sgd']\n",
            "['relu', 'adam']\n"
          ]
        }
      ]
    },
    {
      "cell_type": "code",
      "source": [
        "import pandas as pd\n",
        "cnn_select = path[select_cnn]\n",
        "print(f'CNN Selecionada: {cnn_select}')\n",
        "output = pd.DataFrame()\n",
        "for valores in lista:\n",
        "  model_compile = Load_model(valores[0], valores[1],2000)\n",
        "  modelo = model_compile['Model']\n",
        "  tempo = model_compile['Tempo']\n",
        "  \n",
        "  y_true = y_teste\n",
        "  y_pred = modelo.predict(x_teste)\n",
        "  prev = prevision(y_true, y_pred, tempo)\n",
        "  df_dictionary = pd.DataFrame([prev])\n",
        "  output = pd.concat([output, df_dictionary], ignore_index=True)\n",
        "  print(f'N_neuronio_val: {80,70} func_ativacao: \"{valores[0]}\" solveval: {valores[1]} iteracao_val: {2000} {prev}')"
      ],
      "metadata": {
        "colab": {
          "base_uri": "https://localhost:8080/"
        },
        "id": "bVPDhksOt-lR",
        "outputId": "37ebf46e-d49f-4b2f-e283-f12b817d12d0"
      },
      "execution_count": null,
      "outputs": [
        {
          "output_type": "stream",
          "name": "stdout",
          "text": [
            "CNN Selecionada: EfficientNetB0\n",
            "N_neuronio_val: (80, 70) func_ativacao: \"identity\" solveval: lbfgs iteracao_val: 2000 {'f1-Score': '0.9758', 'Precision': '0.9746', 'Recall': '0.9771', 'tempo': '29.2354'}\n"
          ]
        },
        {
          "output_type": "stream",
          "name": "stderr",
          "text": [
            "/usr/local/lib/python3.7/dist-packages/sklearn/neural_network/_multilayer_perceptron.py:696: ConvergenceWarning: Stochastic Optimizer: Maximum iterations (2000) reached and the optimization hasn't converged yet.\n",
            "  ConvergenceWarning,\n"
          ]
        },
        {
          "output_type": "stream",
          "name": "stdout",
          "text": [
            "N_neuronio_val: (80, 70) func_ativacao: \"identity\" solveval: sgd iteracao_val: 2000 {'f1-Score': '0.9643', 'Precision': '0.9631', 'Recall': '0.9657', 'tempo': '159.1434'}\n",
            "N_neuronio_val: (80, 70) func_ativacao: \"identity\" solveval: adam iteracao_val: 2000 {'f1-Score': '0.9843', 'Precision': '0.9831', 'Recall': '0.9857', 'tempo': '11.4588'}\n",
            "N_neuronio_val: (80, 70) func_ativacao: \"logistic\" solveval: lbfgs iteracao_val: 2000 {'f1-Score': '0.9756', 'Precision': '0.9769', 'Recall': '0.9743', 'tempo': '22.0645'}\n"
          ]
        },
        {
          "output_type": "stream",
          "name": "stderr",
          "text": [
            "/usr/local/lib/python3.7/dist-packages/sklearn/metrics/_classification.py:1318: UndefinedMetricWarning: Precision is ill-defined and being set to 0.0 in labels with no predicted samples. Use `zero_division` parameter to control this behavior.\n",
            "  _warn_prf(average, modifier, msg_start, len(result))\n"
          ]
        },
        {
          "output_type": "stream",
          "name": "stdout",
          "text": [
            "N_neuronio_val: (80, 70) func_ativacao: \"logistic\" solveval: sgd iteracao_val: 2000 {'f1-Score': '0.1088', 'Precision': '0.0695', 'Recall': '0.2500', 'tempo': '1.5020'}\n",
            "N_neuronio_val: (80, 70) func_ativacao: \"logistic\" solveval: adam iteracao_val: 2000 {'f1-Score': '0.9843', 'Precision': '0.9831', 'Recall': '0.9857', 'tempo': '53.2966'}\n",
            "N_neuronio_val: (80, 70) func_ativacao: \"tanh\" solveval: lbfgs iteracao_val: 2000 {'f1-Score': '0.9812', 'Precision': '0.9826', 'Recall': '0.9800', 'tempo': '14.7153'}\n"
          ]
        },
        {
          "output_type": "stream",
          "name": "stderr",
          "text": [
            "/usr/local/lib/python3.7/dist-packages/sklearn/neural_network/_multilayer_perceptron.py:696: ConvergenceWarning: Stochastic Optimizer: Maximum iterations (2000) reached and the optimization hasn't converged yet.\n",
            "  ConvergenceWarning,\n"
          ]
        },
        {
          "output_type": "stream",
          "name": "stdout",
          "text": [
            "N_neuronio_val: (80, 70) func_ativacao: \"tanh\" solveval: sgd iteracao_val: 2000 {'f1-Score': '0.9598', 'Precision': '0.9597', 'Recall': '0.9600', 'tempo': '181.3138'}\n",
            "N_neuronio_val: (80, 70) func_ativacao: \"tanh\" solveval: adam iteracao_val: 2000 {'f1-Score': '0.9843', 'Precision': '0.9831', 'Recall': '0.9857', 'tempo': '13.6351'}\n",
            "N_neuronio_val: (80, 70) func_ativacao: \"relu\" solveval: lbfgs iteracao_val: 2000 {'f1-Score': '0.9843', 'Precision': '0.9831', 'Recall': '0.9857', 'tempo': '62.0403'}\n"
          ]
        },
        {
          "output_type": "stream",
          "name": "stderr",
          "text": [
            "/usr/local/lib/python3.7/dist-packages/sklearn/neural_network/_multilayer_perceptron.py:696: ConvergenceWarning: Stochastic Optimizer: Maximum iterations (2000) reached and the optimization hasn't converged yet.\n",
            "  ConvergenceWarning,\n"
          ]
        },
        {
          "output_type": "stream",
          "name": "stdout",
          "text": [
            "N_neuronio_val: (80, 70) func_ativacao: \"relu\" solveval: sgd iteracao_val: 2000 {'f1-Score': '0.9549', 'Precision': '0.9590', 'Recall': '0.9514', 'tempo': '166.5360'}\n",
            "N_neuronio_val: (80, 70) func_ativacao: \"relu\" solveval: adam iteracao_val: 2000 {'f1-Score': '0.9843', 'Precision': '0.9831', 'Recall': '0.9857', 'tempo': '13.1416'}\n"
          ]
        }
      ]
    },
    {
      "cell_type": "code",
      "source": [
        "output.head()"
      ],
      "metadata": {
        "colab": {
          "base_uri": "https://localhost:8080/",
          "height": 206
        },
        "id": "WlDAzbvnumOE",
        "outputId": "c465f6df-b579-4226-b27b-e4fb698f3b48"
      },
      "execution_count": null,
      "outputs": [
        {
          "output_type": "execute_result",
          "data": {
            "text/plain": [
              "  f1-Score Precision  Recall     tempo\n",
              "0   0.9758    0.9746  0.9771   29.2354\n",
              "1   0.9643    0.9631  0.9657  159.1434\n",
              "2   0.9843    0.9831  0.9857   11.4588\n",
              "3   0.9756    0.9769  0.9743   22.0645\n",
              "4   0.1088    0.0695  0.2500    1.5020"
            ],
            "text/html": [
              "\n",
              "  <div id=\"df-e1d9cd32-c2fe-49fd-ae26-ee26a422a29a\">\n",
              "    <div class=\"colab-df-container\">\n",
              "      <div>\n",
              "<style scoped>\n",
              "    .dataframe tbody tr th:only-of-type {\n",
              "        vertical-align: middle;\n",
              "    }\n",
              "\n",
              "    .dataframe tbody tr th {\n",
              "        vertical-align: top;\n",
              "    }\n",
              "\n",
              "    .dataframe thead th {\n",
              "        text-align: right;\n",
              "    }\n",
              "</style>\n",
              "<table border=\"1\" class=\"dataframe\">\n",
              "  <thead>\n",
              "    <tr style=\"text-align: right;\">\n",
              "      <th></th>\n",
              "      <th>f1-Score</th>\n",
              "      <th>Precision</th>\n",
              "      <th>Recall</th>\n",
              "      <th>tempo</th>\n",
              "    </tr>\n",
              "  </thead>\n",
              "  <tbody>\n",
              "    <tr>\n",
              "      <th>0</th>\n",
              "      <td>0.9758</td>\n",
              "      <td>0.9746</td>\n",
              "      <td>0.9771</td>\n",
              "      <td>29.2354</td>\n",
              "    </tr>\n",
              "    <tr>\n",
              "      <th>1</th>\n",
              "      <td>0.9643</td>\n",
              "      <td>0.9631</td>\n",
              "      <td>0.9657</td>\n",
              "      <td>159.1434</td>\n",
              "    </tr>\n",
              "    <tr>\n",
              "      <th>2</th>\n",
              "      <td>0.9843</td>\n",
              "      <td>0.9831</td>\n",
              "      <td>0.9857</td>\n",
              "      <td>11.4588</td>\n",
              "    </tr>\n",
              "    <tr>\n",
              "      <th>3</th>\n",
              "      <td>0.9756</td>\n",
              "      <td>0.9769</td>\n",
              "      <td>0.9743</td>\n",
              "      <td>22.0645</td>\n",
              "    </tr>\n",
              "    <tr>\n",
              "      <th>4</th>\n",
              "      <td>0.1088</td>\n",
              "      <td>0.0695</td>\n",
              "      <td>0.2500</td>\n",
              "      <td>1.5020</td>\n",
              "    </tr>\n",
              "  </tbody>\n",
              "</table>\n",
              "</div>\n",
              "      <button class=\"colab-df-convert\" onclick=\"convertToInteractive('df-e1d9cd32-c2fe-49fd-ae26-ee26a422a29a')\"\n",
              "              title=\"Convert this dataframe to an interactive table.\"\n",
              "              style=\"display:none;\">\n",
              "        \n",
              "  <svg xmlns=\"http://www.w3.org/2000/svg\" height=\"24px\"viewBox=\"0 0 24 24\"\n",
              "       width=\"24px\">\n",
              "    <path d=\"M0 0h24v24H0V0z\" fill=\"none\"/>\n",
              "    <path d=\"M18.56 5.44l.94 2.06.94-2.06 2.06-.94-2.06-.94-.94-2.06-.94 2.06-2.06.94zm-11 1L8.5 8.5l.94-2.06 2.06-.94-2.06-.94L8.5 2.5l-.94 2.06-2.06.94zm10 10l.94 2.06.94-2.06 2.06-.94-2.06-.94-.94-2.06-.94 2.06-2.06.94z\"/><path d=\"M17.41 7.96l-1.37-1.37c-.4-.4-.92-.59-1.43-.59-.52 0-1.04.2-1.43.59L10.3 9.45l-7.72 7.72c-.78.78-.78 2.05 0 2.83L4 21.41c.39.39.9.59 1.41.59.51 0 1.02-.2 1.41-.59l7.78-7.78 2.81-2.81c.8-.78.8-2.07 0-2.86zM5.41 20L4 18.59l7.72-7.72 1.47 1.35L5.41 20z\"/>\n",
              "  </svg>\n",
              "      </button>\n",
              "      \n",
              "  <style>\n",
              "    .colab-df-container {\n",
              "      display:flex;\n",
              "      flex-wrap:wrap;\n",
              "      gap: 12px;\n",
              "    }\n",
              "\n",
              "    .colab-df-convert {\n",
              "      background-color: #E8F0FE;\n",
              "      border: none;\n",
              "      border-radius: 50%;\n",
              "      cursor: pointer;\n",
              "      display: none;\n",
              "      fill: #1967D2;\n",
              "      height: 32px;\n",
              "      padding: 0 0 0 0;\n",
              "      width: 32px;\n",
              "    }\n",
              "\n",
              "    .colab-df-convert:hover {\n",
              "      background-color: #E2EBFA;\n",
              "      box-shadow: 0px 1px 2px rgba(60, 64, 67, 0.3), 0px 1px 3px 1px rgba(60, 64, 67, 0.15);\n",
              "      fill: #174EA6;\n",
              "    }\n",
              "\n",
              "    [theme=dark] .colab-df-convert {\n",
              "      background-color: #3B4455;\n",
              "      fill: #D2E3FC;\n",
              "    }\n",
              "\n",
              "    [theme=dark] .colab-df-convert:hover {\n",
              "      background-color: #434B5C;\n",
              "      box-shadow: 0px 1px 3px 1px rgba(0, 0, 0, 0.15);\n",
              "      filter: drop-shadow(0px 1px 2px rgba(0, 0, 0, 0.3));\n",
              "      fill: #FFFFFF;\n",
              "    }\n",
              "  </style>\n",
              "\n",
              "      <script>\n",
              "        const buttonEl =\n",
              "          document.querySelector('#df-e1d9cd32-c2fe-49fd-ae26-ee26a422a29a button.colab-df-convert');\n",
              "        buttonEl.style.display =\n",
              "          google.colab.kernel.accessAllowed ? 'block' : 'none';\n",
              "\n",
              "        async function convertToInteractive(key) {\n",
              "          const element = document.querySelector('#df-e1d9cd32-c2fe-49fd-ae26-ee26a422a29a');\n",
              "          const dataTable =\n",
              "            await google.colab.kernel.invokeFunction('convertToInteractive',\n",
              "                                                     [key], {});\n",
              "          if (!dataTable) return;\n",
              "\n",
              "          const docLinkHtml = 'Like what you see? Visit the ' +\n",
              "            '<a target=\"_blank\" href=https://colab.research.google.com/notebooks/data_table.ipynb>data table notebook</a>'\n",
              "            + ' to learn more about interactive tables.';\n",
              "          element.innerHTML = '';\n",
              "          dataTable['output_type'] = 'display_data';\n",
              "          await google.colab.output.renderOutput(dataTable, element);\n",
              "          const docLink = document.createElement('div');\n",
              "          docLink.innerHTML = docLinkHtml;\n",
              "          element.appendChild(docLink);\n",
              "        }\n",
              "      </script>\n",
              "    </div>\n",
              "  </div>\n",
              "  "
            ]
          },
          "metadata": {},
          "execution_count": 22
        }
      ]
    },
    {
      "cell_type": "markdown",
      "source": [
        "Salvar_dataframe"
      ],
      "metadata": {
        "id": "jAxt6lxlurD8"
      }
    },
    {
      "cell_type": "code",
      "source": [
        "# writing to Excel\n",
        "name_save = f'MLP_{cnn_select}_2022.xlsx'\n",
        "datatoexcel = pd.ExcelWriter(name_save)\n",
        "\n",
        "  \n",
        "# write DataFrame to excel\n",
        "output.to_excel(datatoexcel)\n",
        "  \n",
        "# save the excel\n",
        "datatoexcel.save()\n",
        "\n",
        "print(f'Arquivo: {name_save} salvo')\n",
        "print('DataFrame is written to Excel File successfully.')"
      ],
      "metadata": {
        "colab": {
          "base_uri": "https://localhost:8080/"
        },
        "id": "FNM3PwRqupGQ",
        "outputId": "63d97616-fac7-4ce0-e2f7-3262f8e89fdc"
      },
      "execution_count": null,
      "outputs": [
        {
          "output_type": "stream",
          "name": "stdout",
          "text": [
            "Arquivo: MLP_EfficientNetB0_2022.xlsx salvo\n",
            "DataFrame is written to Excel File successfully.\n"
          ]
        }
      ]
    }
  ]
}