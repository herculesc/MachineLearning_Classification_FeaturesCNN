{
  "nbformat": 4,
  "nbformat_minor": 0,
  "metadata": {
    "colab": {
      "name": "Logistic_Regression_vgg16-2022_IC-INPE.ipynb",
      "provenance": [],
      "collapsed_sections": [],
      "include_colab_link": true
    },
    "kernelspec": {
      "name": "python3",
      "display_name": "Python 3"
    },
    "language_info": {
      "name": "python"
    },
    "accelerator": "GPU",
    "gpuClass": "standard"
  },
  "cells": [
    {
      "cell_type": "markdown",
      "metadata": {
        "id": "view-in-github",
        "colab_type": "text"
      },
      "source": [
        "<a href=\"https://colab.research.google.com/github/herculesc/MachineLearning_Classification_FeaturesCNN/blob/main/Logistic_Regression_vgg16_2022_IC_INPE.ipynb\" target=\"_parent\"><img src=\"https://colab.research.google.com/assets/colab-badge.svg\" alt=\"Open In Colab\"/></a>"
      ]
    },
    {
      "cell_type": "code",
      "source": [
        "from google.colab import drive\n",
        "drive.mount('/content/drive')"
      ],
      "metadata": {
        "id": "519f4Bl6Z0KR",
        "colab": {
          "base_uri": "https://localhost:8080/"
        },
        "outputId": "7e29620a-d3c4-4e8a-fe3f-b8368dd6c13d"
      },
      "execution_count": null,
      "outputs": [
        {
          "output_type": "stream",
          "name": "stdout",
          "text": [
            "Mounted at /content/drive\n"
          ]
        }
      ]
    },
    {
      "cell_type": "markdown",
      "source": [
        "# **Biblioteca**"
      ],
      "metadata": {
        "id": "vvV0Dl9grvxA"
      }
    },
    {
      "cell_type": "code",
      "execution_count": null,
      "metadata": {
        "id": "Mbcf3BDg4rJX"
      },
      "outputs": [],
      "source": [
        "from sklearn.model_selection import train_test_split\n",
        "from sklearn.metrics import mean_squared_error, mean_absolute_error\n",
        "from sklearn.metrics import f1_score, precision_score, recall_score, confusion_matrix\n",
        "from sklearn.datasets import load_iris\n",
        "from sklearn.linear_model import LogisticRegression\n",
        "from tensorflow import keras\n",
        "import pandas as pd\n",
        "import numpy as np\n",
        "import matplotlib.pyplot as plt\n",
        "import seaborn as sns\n",
        "import json"
      ]
    },
    {
      "cell_type": "code",
      "source": [
        "# y_true = y_teste\n",
        "# y_pred = model.predict(x_teste)\n",
        "dic_pevision = {}\n",
        "\n",
        "def prevision(y_true, y_pred, final_treino):  \n",
        "  precision = precision_score(y_true, y_pred , average=\"macro\")\n",
        "  f1 = f1_score(y_true, y_pred , average=\"macro\")\n",
        "  recall = recall_score(y_true, y_pred , average=\"macro\")\n",
        "\n",
        "  dic_pevision['f1-Score'] = \"{:.4f}\".format(f1)\n",
        "  dic_pevision['Precision'] = \"{:.4f}\".format(precision)\n",
        "  dic_pevision['Recall'] = \"{:.4f}\".format(recall)\n",
        "  dic_pevision['tempo'] = \"{:.4f}\".format(final_treino)\n",
        "  #print(f'F1: {f1:.4f} Precision:{precision:.4f} Recall:{recall:.4f} Tempo{final_treino:.4f}')\n",
        "\n",
        "  return dic_pevision"
      ],
      "metadata": {
        "id": "MyztV5tnA76B"
      },
      "execution_count": null,
      "outputs": []
    },
    {
      "cell_type": "code",
      "source": [
        "def Load_model(Penalty, C_, Solver, Max_iter):\n",
        "  # inica a contagem do tempo\n",
        "  inicio_treino = init_time()\n",
        "\n",
        "  # Treinamento\n",
        "  model = LogisticRegression(\n",
        "                            penalty=Penalty,\n",
        "                            random_state=0,\n",
        "                            C= C_,\n",
        "                            solver=Solver,\n",
        "                            max_iter= Max_iter,\n",
        "                            multi_class = 'auto').fit( x_treino, y_treino)\n",
        "  final_treino = time_ex(inicio_treino)\n",
        "\n",
        "  return {'Model':model, 'Tempo': final_treino}"
      ],
      "metadata": {
        "id": "oyREcg9AEcOf"
      },
      "execution_count": null,
      "outputs": []
    },
    {
      "cell_type": "code",
      "source": [
        "import sys\n",
        "# Abrir local do arquivo\n",
        "\n",
        "sys.path.append('/content/drive/MyDrive/TensorFlow_IC')\n",
        "\n",
        "# Carrefar função do arquivo\n",
        "from Time_execution import init_time\n",
        "from Time_execution import time_ex\n",
        "timeres = []"
      ],
      "metadata": {
        "id": "pfY5ohik0oop"
      },
      "execution_count": null,
      "outputs": []
    },
    {
      "cell_type": "markdown",
      "source": [
        "# **Carregar conjunto de dados**"
      ],
      "metadata": {
        "id": "XM4jc_HUsALT"
      }
    },
    {
      "cell_type": "code",
      "source": [
        "path = ['VGG_16', 'MobileNet', 'NASNetLarge', 'EfficientNetB0', 'EfficientNetB7', 'EfficientNetV2L' ]\n",
        "train_path = []\n",
        "test_path = []\n",
        "for i in path:\n",
        "  train = f'/content/drive/MyDrive/TensorFlow_IC/Dados/IC_Extraction_save/{i}/{i}_Train.csv'\n",
        "  train_path.append(train)\n",
        "  \n",
        "  test = f'/content/drive/MyDrive/TensorFlow_IC/Dados/IC_Extraction_save/{i}/{i}_Test.csv'\n",
        "  test_path.append(test)\n"
      ],
      "metadata": {
        "id": "3XGmgwaYwK1w"
      },
      "execution_count": null,
      "outputs": []
    },
    {
      "cell_type": "code",
      "source": [
        "select_cnn = 5\n",
        "selecao_train = train_path[select_cnn] \n",
        "selecao_test = test_path[select_cnn]\n",
        "\n",
        "print(selecao_train)\n",
        "print(selecao_test)"
      ],
      "metadata": {
        "id": "2Sy83CDEwNRB",
        "colab": {
          "base_uri": "https://localhost:8080/"
        },
        "outputId": "c81dbff8-efe9-4b12-940c-cc44c825def9"
      },
      "execution_count": null,
      "outputs": [
        {
          "output_type": "stream",
          "name": "stdout",
          "text": [
            "/content/drive/MyDrive/TensorFlow_IC/Dados/IC_Extraction_save/EfficientNetV2L/EfficientNetV2L_Train.csv\n",
            "/content/drive/MyDrive/TensorFlow_IC/Dados/IC_Extraction_save/EfficientNetV2L/EfficientNetV2L_Test.csv\n"
          ]
        }
      ]
    },
    {
      "cell_type": "code",
      "source": [
        "# Extração do conjunto de treinamento e alvo:\n",
        "data = pd.read_csv(selecao_train)\n",
        "alvo = pd.read_csv(selecao_test)\n",
        "\n",
        "# Remover coluna vazia\n",
        "data = data.drop(columns=['Unnamed: 0'])\n",
        "alvo = alvo.drop(columns=['Unnamed: 0'])"
      ],
      "metadata": {
        "id": "7JmfEDdSwPpt"
      },
      "execution_count": null,
      "outputs": []
    },
    {
      "cell_type": "code",
      "source": [
        "# Separação do conjunto alvo para validação:\n",
        "esperado, alvo = alvo[\"Classe\"], alvo.drop(\"Classe\", axis=1)"
      ],
      "metadata": {
        "id": "F-hfU4Z5wYP4"
      },
      "execution_count": null,
      "outputs": []
    },
    {
      "cell_type": "code",
      "source": [
        "# Separação do conjunto de treinamento:\n",
        "subteste = data.drop(\"Classe\", axis=1)\n",
        "valores = data[\"Classe\"]\n"
      ],
      "metadata": {
        "id": "7FmqK7Cl6uCD"
      },
      "execution_count": null,
      "outputs": []
    },
    {
      "cell_type": "markdown",
      "source": [
        "# **Preparação do conjunto para Logistic Regression**"
      ],
      "metadata": {
        "id": "F1jc6bNfsoMf"
      }
    },
    {
      "cell_type": "code",
      "source": [
        "# Criar conjunto de dados:\n",
        "x_treino, x_teste, y_treino, y_teste = train_test_split(subteste, valores, test_size=0.1)"
      ],
      "metadata": {
        "id": "t6jWX7gx--Fz"
      },
      "execution_count": null,
      "outputs": []
    },
    {
      "cell_type": "markdown",
      "source": [
        "# **Modelo Regressão Logistica**\n"
      ],
      "metadata": {
        "id": "nj-pI1qmrozk"
      }
    },
    {
      "cell_type": "code",
      "source": [
        "# Parâmetros\n",
        "Penalty_val\t= ['l1','l2']\n",
        "C_val\t= [0.500, 0.750, 1]\n",
        "Max_inter_val\t= [30, 60, 80, 100]"
      ],
      "metadata": {
        "id": "jmJapf7tseok"
      },
      "execution_count": null,
      "outputs": []
    },
    {
      "cell_type": "code",
      "source": [
        "# Cria dicionario com os dados\n",
        "lista = []\n",
        "cont = 0\n",
        "for i in Penalty_val:\n",
        "  for y in C_val:\n",
        "    for z in Max_inter_val:\n",
        "      valor = [i, y, z]\n",
        "      lista.append(valor)\n",
        "      #print(f'Penalty: \"{i}\"  C_val: {y} Max_val: {z}')"
      ],
      "metadata": {
        "id": "D8k0ghzt_0-N"
      },
      "execution_count": null,
      "outputs": []
    },
    {
      "cell_type": "code",
      "source": [
        "lista2 = [[ 'l1', 0.500, 30]]"
      ],
      "metadata": {
        "id": "fcybMPJbc5j-"
      },
      "execution_count": null,
      "outputs": []
    },
    {
      "cell_type": "code",
      "source": [
        "# Treinamento do modelo\n",
        "import pandas as pd\n",
        "cnn_select = path[select_cnn]\n",
        "print(f'CNN Selecionada: {cnn_select}')\n",
        "output = pd.DataFrame()\n",
        "for valores in lista2:\n",
        "  model_compile = Load_model(valores[0], valores[1], 'saga', valores[2])\n",
        "  modelo = model_compile['Model']\n",
        "  tempo = model_compile['Tempo']\n",
        "  \n",
        "  y_true = y_teste\n",
        "  y_pred = modelo.predict(x_teste)\n",
        "  prev = prevision(y_true, y_pred, tempo)\n",
        "  df_dictionary = pd.DataFrame([prev])\n",
        "  output = pd.concat([output, df_dictionary], ignore_index=True)\n",
        "\n",
        "  print(f'Penalty: {valores[0]}  C_val: {valores[1]} Max_val: {valores[2]} {prev}')"
      ],
      "metadata": {
        "id": "lWbQnNeOwvFH",
        "colab": {
          "base_uri": "https://localhost:8080/"
        },
        "outputId": "26251dac-3de4-4dd8-a916-ae46c00edca9"
      },
      "execution_count": null,
      "outputs": [
        {
          "output_type": "stream",
          "name": "stdout",
          "text": [
            "CNN Selecionada: EfficientNetV2L\n",
            "Penalty: l1  C_val: 0.5 Max_val: 30 {'f1-Score': '0.6925', 'Precision': '0.7778', 'Recall': '0.6818', 'tempo': '2.7183'}\n"
          ]
        },
        {
          "output_type": "stream",
          "name": "stderr",
          "text": [
            "/usr/local/lib/python3.7/dist-packages/sklearn/linear_model/_sag.py:354: ConvergenceWarning: The max_iter was reached which means the coef_ did not converge\n",
            "  ConvergenceWarning,\n"
          ]
        }
      ]
    },
    {
      "cell_type": "code",
      "source": [
        "# writing to Excel\n",
        "name_save = f'Logistic_Regression_{cnn_select}_2022.xlsx'\n",
        "datatoexcel = pd.ExcelWriter(name_save)\n",
        "\n",
        "  \n",
        "# write DataFrame to excel\n",
        "output.to_excel(datatoexcel)\n",
        "  \n",
        "# save the excel\n",
        "datatoexcel.save()\n",
        "\n",
        "print(f'Arquivo: {name_save} salvo')\n",
        "print('DataFrame is written to Excel File successfully.')"
      ],
      "metadata": {
        "colab": {
          "base_uri": "https://localhost:8080/"
        },
        "id": "FIvixPxh3h2T",
        "outputId": "6651d8a7-2c61-4a4c-91e0-7cba331f087b"
      },
      "execution_count": null,
      "outputs": [
        {
          "output_type": "stream",
          "name": "stdout",
          "text": [
            "Arquivo: Logistic_Regression_EfficientNetV2L_2022.xlsx salvo\n",
            "DataFrame is written to Excel File successfully.\n"
          ]
        }
      ]
    }
  ]
}
